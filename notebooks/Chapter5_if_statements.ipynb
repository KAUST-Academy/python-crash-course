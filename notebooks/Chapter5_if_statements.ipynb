{
 "cells": [
  {
   "cell_type": "markdown",
   "id": "07a5b167-f626-4004-b254-582615b6af06",
   "metadata": {},
   "source": [
    "# Chapter 5 - If statements"
   ]
  },
  {
   "cell_type": "markdown",
   "id": "44c6d787-f011-4599-98cc-3d6cf8476a19",
   "metadata": {
    "tags": []
   },
   "source": [
    "## Let's say we want to make a game where you try to guess the number I am thinking about."
   ]
  },
  {
   "cell_type": "code",
   "execution_count": null,
   "id": "8365c1e2-e2c3-40f2-ab75-ed91bb5a7446",
   "metadata": {},
   "outputs": [],
   "source": [
    "player_guess = int(input(\"Guess a number between 0 and 9\"))\n",
    "the_correct_guess = 5\n",
    "\n",
    "### How can I tell is the player guess correct or not?"
   ]
  },
  {
   "cell_type": "markdown",
   "id": "c035992a-eb5e-4c44-9368-da662a4090c5",
   "metadata": {
    "jp-MarkdownHeadingCollapsed": true,
    "tags": []
   },
   "source": [
    "## Conditions"
   ]
  },
  {
   "cell_type": "code",
   "execution_count": null,
   "id": "bf9ba667-3d9c-4474-bc1c-f22780251dd7",
   "metadata": {},
   "outputs": [],
   "source": [
    "user_name = \"Mohammed\"\n",
    "user_name == \"moahmmed\" "
   ]
  },
  {
   "cell_type": "code",
   "execution_count": null,
   "id": "d1ef20e3-668f-42c0-8120-9ddd070ba6ef",
   "metadata": {},
   "outputs": [],
   "source": [
    "user_name.lower() == \"mohammed\""
   ]
  },
  {
   "cell_type": "markdown",
   "id": "c779c513-c20d-40ed-92c8-a5390f3f7e2f",
   "metadata": {
    "tags": []
   },
   "source": [
    "### Numerical Conditions"
   ]
  },
  {
   "cell_type": "code",
   "execution_count": null,
   "id": "869f0de2-4fd9-4ef1-ba32-dee1de26c684",
   "metadata": {},
   "outputs": [],
   "source": []
  },
  {
   "cell_type": "markdown",
   "id": "1aa7817e-f92d-4139-99ae-fbfb1b4d7c5c",
   "metadata": {},
   "source": [
    "### Checking multiple conditions"
   ]
  },
  {
   "cell_type": "code",
   "execution_count": null,
   "id": "d4008af0-0edd-4da6-b774-97f61a094315",
   "metadata": {},
   "outputs": [],
   "source": []
  },
  {
   "cell_type": "markdown",
   "id": "9ea1de70-640f-4554-a352-c7ac492b698d",
   "metadata": {},
   "source": [
    "### Conditions in Lists"
   ]
  },
  {
   "cell_type": "code",
   "execution_count": null,
   "id": "8eec03cd-d14c-47bc-a288-d3e26537b43f",
   "metadata": {},
   "outputs": [],
   "source": []
  },
  {
   "cell_type": "markdown",
   "id": "6ab18088-1be0-4d86-b6ab-a8ab645ec183",
   "metadata": {
    "tags": []
   },
   "source": [
    "## If statements"
   ]
  },
  {
   "cell_type": "code",
   "execution_count": null,
   "id": "177fd9ca-0178-4277-a58e-83128bbd385f",
   "metadata": {},
   "outputs": [],
   "source": []
  },
  {
   "cell_type": "markdown",
   "id": "a5a73d3d-8c19-4f9d-8f2a-72551390e047",
   "metadata": {},
   "source": [
    "### Simple if statements"
   ]
  },
  {
   "cell_type": "code",
   "execution_count": null,
   "id": "ca426e10-8da5-492b-b3c9-ce835422f222",
   "metadata": {},
   "outputs": [],
   "source": []
  },
  {
   "cell_type": "markdown",
   "id": "4b0f0280-71a7-4d7a-9677-a993dba5c8c0",
   "metadata": {},
   "source": [
    "### if-else statements"
   ]
  },
  {
   "cell_type": "code",
   "execution_count": null,
   "id": "c6023366-da65-4753-93ff-c852313d018a",
   "metadata": {},
   "outputs": [],
   "source": []
  },
  {
   "cell_type": "markdown",
   "id": "20484b6e-09c2-4f83-a330-ca697706b573",
   "metadata": {},
   "source": [
    "### if-elif-else"
   ]
  },
  {
   "cell_type": "code",
   "execution_count": null,
   "id": "48f76951-e64b-47ea-934a-158a8b588a70",
   "metadata": {},
   "outputs": [],
   "source": []
  },
  {
   "cell_type": "markdown",
   "id": "ebb87b90-2e9d-4f31-94e6-e401b675093f",
   "metadata": {},
   "source": [
    "### Testing Multiple Conditions"
   ]
  },
  {
   "cell_type": "code",
   "execution_count": null,
   "id": "be3ba4d2-d41d-403e-8077-bee527feb7b2",
   "metadata": {},
   "outputs": [],
   "source": []
  },
  {
   "cell_type": "markdown",
   "id": "b8af9a32-6bda-442f-8a2e-cfbfbc92c894",
   "metadata": {
    "tags": []
   },
   "source": [
    "## Using if Statements with Lists"
   ]
  },
  {
   "cell_type": "code",
   "execution_count": null,
   "id": "14108e85-5f16-49b4-9d7b-652c772b1014",
   "metadata": {},
   "outputs": [],
   "source": [
    "users = []"
   ]
  },
  {
   "cell_type": "markdown",
   "id": "12e415a8-b347-45fc-9299-b5e725480d90",
   "metadata": {},
   "source": [
    "### Checking for special items"
   ]
  },
  {
   "cell_type": "code",
   "execution_count": null,
   "id": "3e753331-8a35-4f91-94fe-cc38631c2880",
   "metadata": {},
   "outputs": [],
   "source": []
  },
  {
   "cell_type": "markdown",
   "id": "31c2855b-7c4e-44f6-b907-373bb2ff6465",
   "metadata": {},
   "source": [
    "### Checking if a list is not empty "
   ]
  },
  {
   "cell_type": "code",
   "execution_count": null,
   "id": "33e7e4da-1622-481b-8afc-c2b0b31b916f",
   "metadata": {},
   "outputs": [],
   "source": []
  },
  {
   "cell_type": "markdown",
   "id": "edd6c18e-4dc6-4d9b-bcde-969be04f532e",
   "metadata": {},
   "source": [
    "# Problem"
   ]
  },
  {
   "cell_type": "markdown",
   "id": "86b67d3f-73b5-4efc-acdb-aee479c3bd52",
   "metadata": {},
   "source": [
    "You are working on a program that helps a store owner keep track of their inventory. The store owner wants to be able to add new items to the inventory, check if an item is in stock, and update the stock of an existing item.\n",
    "\n",
    "Write a program that prompts the user to select an action (add item, check stock, update stock) and then performs the appropriate action. If the user selects \"add item\", the program should prompt the user to enter the item name, price, and stock level. If the user selects \"check stock\", the program should prompt the user to enter the item name and display the stock level for that item. If the user selects \"update stock\", the program should prompt the user to enter the item name and the new stock level.\n",
    "\n",
    "Hint:\n",
    "\n",
    "- You can use a dictionary to store the inventory items and their associated information (name, price, stock level)\n",
    "- You can use a while loop to repeatedly prompt the user to select an action until they choose to exit the program\n"
   ]
  },
  {
   "cell_type": "code",
   "execution_count": null,
   "id": "2ab8a9a8-5f7e-415f-b0ec-06c0b2e42474",
   "metadata": {},
   "outputs": [],
   "source": [
    "while True:\n",
    "    action = input(\"What would you like to do? (add item, check stock, update stock, exit): \")"
   ]
  }
 ],
 "metadata": {
  "kernelspec": {
   "display_name": "Python 3 (ipykernel)",
   "language": "python",
   "name": "python3"
  },
  "language_info": {
   "codemirror_mode": {
    "name": "ipython",
    "version": 3
   },
   "file_extension": ".py",
   "mimetype": "text/x-python",
   "name": "python",
   "nbconvert_exporter": "python",
   "pygments_lexer": "ipython3",
   "version": "3.9.13"
  }
 },
 "nbformat": 4,
 "nbformat_minor": 5
}
