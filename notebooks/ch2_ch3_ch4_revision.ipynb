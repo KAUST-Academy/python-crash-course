{
 "cells": [
  {
   "cell_type": "markdown",
   "id": "6625449a-b837-4724-96de-338e1f66192a",
   "metadata": {
    "tags": []
   },
   "source": [
    "# Python Crash Course Review - Variables and Simple Data Types\n",
    "\n",
    "In this notebook, we'll learn about variables and simple data types in Python.\n",
    "\n",
    "## Variables"
   ]
  },
  {
   "cell_type": "markdown",
   "id": "b211ec3c-0413-4bfd-9ad7-70b8c3f50bc3",
   "metadata": {},
   "source": [
    "\n",
    "A variable is a name that refers to a value. In Python, you can create a variable by assigning a value to a variable using the `=` operator. For example:\n"
   ]
  },
  {
   "cell_type": "code",
   "execution_count": null,
   "id": "2906e0b9-a058-44be-9feb-eb45b5dfc4ae",
   "metadata": {},
   "outputs": [],
   "source": [
    "x = 10\n",
    "y = 20"
   ]
  },
  {
   "cell_type": "markdown",
   "id": "36dd68b3-020e-4ae8-a693-19c59b356930",
   "metadata": {},
   "source": [
    "You can use the `print()` function to print the value of a variable:"
   ]
  },
  {
   "cell_type": "code",
   "execution_count": null,
   "id": "2948a5f3-d260-4ca1-86b0-b2dc1c8cc6b3",
   "metadata": {},
   "outputs": [],
   "source": [
    "print(x) # 10\n",
    "print(y) # 20"
   ]
  },
  {
   "cell_type": "markdown",
   "id": "b816d58f-23c2-468d-876d-80e288068968",
   "metadata": {},
   "source": [
    "You can use the `type()` function to get the data type of a value:\n"
   ]
  },
  {
   "cell_type": "code",
   "execution_count": null,
   "id": "473b9b12-68d4-409f-930b-092baf01108c",
   "metadata": {},
   "outputs": [],
   "source": [
    "print(type(x)) # <class 'int'>\n",
    "print(type(y)) # <class 'int'>"
   ]
  },
  {
   "cell_type": "markdown",
   "id": "18c76d2a-d077-41f7-94e4-21cca676ca53",
   "metadata": {},
   "source": [
    "## Simple Data Types\n",
    "\n",
    "In Python, there are several simple data types, including integers (`int`), floating-point numbers (`float`), and strings (`str`)."
   ]
  },
  {
   "cell_type": "markdown",
   "id": "758ccb7e-e7e4-4484-bd53-9a5a809a57a4",
   "metadata": {
    "tags": []
   },
   "source": [
    "### Integers\n",
    "\n",
    "An integer is a whole number. You can create an integer by assigning a whole number to a variable:"
   ]
  },
  {
   "cell_type": "code",
   "execution_count": null,
   "id": "458d2b27-4b3c-4a81-96fb-a2cd1d48e658",
   "metadata": {},
   "outputs": [],
   "source": [
    "x = 10\n",
    "y = -20"
   ]
  },
  {
   "cell_type": "markdown",
   "id": "48f689df-a48c-4c6d-9ce3-95755f12724b",
   "metadata": {},
   "source": [
    "You can use the `+`, `-`, `*`, and `/` operators to perform arithmetic operations on integers:"
   ]
  },
  {
   "cell_type": "code",
   "execution_count": null,
   "id": "67558aaf-c00d-4df1-966f-0364c4e753f6",
   "metadata": {},
   "outputs": [],
   "source": [
    "print(x + y) # -10\n",
    "print(x - y) # 30\n",
    "print(x * y) # -200\n",
    "print(x / y) # -0.5"
   ]
  },
  {
   "cell_type": "markdown",
   "id": "bae65166-3913-4bc5-85ca-3dfe4adc1e35",
   "metadata": {},
   "source": [
    "You can use the `//` operator to perform integer division, which returns the quotient as an integer:"
   ]
  },
  {
   "cell_type": "code",
   "execution_count": null,
   "id": "f9af6675-b5f9-4f47-871d-da3d062c31bf",
   "metadata": {},
   "outputs": [],
   "source": [
    "print(x // y) # -1"
   ]
  },
  {
   "cell_type": "markdown",
   "id": "cccac512-e99d-46a6-88dd-4cf56e0abe5c",
   "metadata": {},
   "source": [
    "You can use the `%` operator to get the remainder of an integer division:"
   ]
  },
  {
   "cell_type": "code",
   "execution_count": null,
   "id": "08e8a460-671f-4fa5-9b43-4bd4f0504bf6",
   "metadata": {},
   "outputs": [],
   "source": [
    "print(x % y) # 10"
   ]
  },
  {
   "cell_type": "markdown",
   "id": "3e8f2e8b-0f48-4ab5-8eca-ff7eca3d7937",
   "metadata": {},
   "source": [
    "You can use the `**` operator to raise a number to a power:"
   ]
  },
  {
   "cell_type": "code",
   "execution_count": null,
   "id": "5fa42e78-eabe-4f7f-98bf-59abbc2106d0",
   "metadata": {},
   "outputs": [],
   "source": [
    "print(x ** 2) # 100"
   ]
  },
  {
   "cell_type": "markdown",
   "id": "949278ba-2c23-4e69-8e05-39e01bc30646",
   "metadata": {
    "tags": []
   },
   "source": [
    "### Floating-Point Numbers\n",
    "\n",
    "A floating-point number is a number with a decimal point. You can create a floating-point number by assigning a number with a decimal point to a variable:"
   ]
  },
  {
   "cell_type": "code",
   "execution_count": null,
   "id": "98466a67-3bb7-4706-91bf-4a2629c65002",
   "metadata": {},
   "outputs": [],
   "source": [
    "x = 10.5\n",
    "y = -20.7"
   ]
  },
  {
   "cell_type": "markdown",
   "id": "a38ab0f2-22ea-4d29-be04-2b8a9f5d38a7",
   "metadata": {},
   "source": [
    "You can use the `+`, `-`, `*`, and `/` operators to perform arithmetic operations on floating-point numbers:\n",
    "\n",
    "\n"
   ]
  },
  {
   "cell_type": "code",
   "execution_count": null,
   "id": "5e4a8d14-c266-419a-a2e8-078441dede2b",
   "metadata": {},
   "outputs": [],
   "source": [
    "print(x + y) # -10.2\n",
    "print(x - y) # 31.2\n",
    "print(x * y) # -215.35\n",
    "print(x / y) # -0.5070512820512821"
   ]
  },
  {
   "cell_type": "markdown",
   "id": "dd93274a-c833-4e5b-8849-ba4d43b3e1e1",
   "metadata": {},
   "source": [
    "You can use the `**` operator to raise a number to a power:"
   ]
  },
  {
   "cell_type": "code",
   "execution_count": null,
   "id": "ecd53570-07dc-4be6-a964-5852447c949c",
   "metadata": {},
   "outputs": [],
   "source": [
    "print(x ** 2) # 110.25"
   ]
  },
  {
   "cell_type": "markdown",
   "id": "5095ef8e-c562-4b51-8bc1-40e3bdd9397e",
   "metadata": {
    "tags": []
   },
   "source": [
    "### Strings\n",
    "\n",
    "A string is a sequence of characters. You can create a string by enclosing a sequence of characters in quotes:"
   ]
  },
  {
   "cell_type": "code",
   "execution_count": null,
   "id": "e203a6ad-0c20-4fa8-989d-8c7d5fd1ab0a",
   "metadata": {},
   "outputs": [],
   "source": [
    "x = 'Hello'\n",
    "y = \"World\""
   ]
  },
  {
   "cell_type": "markdown",
   "id": "5bd260a6-abf7-43db-8eea-94cb93f4a267",
   "metadata": {},
   "source": [
    "You can use the `+` operator to concatenate strings:"
   ]
  },
  {
   "cell_type": "code",
   "execution_count": null,
   "id": "49065f47-6c74-42d8-8965-3f5171576da6",
   "metadata": {},
   "outputs": [],
   "source": [
    "print(x + ' ' + y) # Hello World"
   ]
  },
  {
   "cell_type": "markdown",
   "id": "8f9f2d65-d47d-40dd-b93b-c17fc3d2b2c7",
   "metadata": {},
   "source": [
    "You can use the `len()` function to get the length of a string:"
   ]
  },
  {
   "cell_type": "code",
   "execution_count": null,
   "id": "e4576b05-0b0e-4b79-9974-27e4231a0387",
   "metadata": {},
   "outputs": [],
   "source": [
    "print(len(x)) # 5"
   ]
  },
  {
   "cell_type": "markdown",
   "id": "cff3482d-dcc1-4c1a-ba19-21453e7b60ec",
   "metadata": {},
   "source": [
    "You can use the `.lower()` and `.upper()` methods to convert a string to lowercase or uppercase, respectively:"
   ]
  },
  {
   "cell_type": "code",
   "execution_count": null,
   "id": "9d85672c-0a1b-45dc-b451-103f0d7d7ea8",
   "metadata": {},
   "outputs": [],
   "source": [
    "print(x.lower()) # hello\n",
    "print(y.upper()) # WORLD"
   ]
  },
  {
   "cell_type": "markdown",
   "id": "3031d3df-2c79-417f-a055-0fe188ae397f",
   "metadata": {},
   "source": [
    "You can use the `.title()` method to capitalize a string: "
   ]
  },
  {
   "cell_type": "code",
   "execution_count": null,
   "id": "88804799-4d0e-4c48-947d-299494f708f1",
   "metadata": {},
   "outputs": [],
   "source": [
    "print(\"heLLo worlD\".title())"
   ]
  },
  {
   "cell_type": "markdown",
   "id": "0642d50c-6dcb-4a65-a475-bd55e5728069",
   "metadata": {},
   "source": [
    "You can use the `.strip()` method to remove leading and trailing whitespace from a string:"
   ]
  },
  {
   "cell_type": "code",
   "execution_count": null,
   "id": "2dc3e26c-e501-44bf-b9cb-e4200a4d3454",
   "metadata": {},
   "outputs": [],
   "source": [
    "x = '  Hello   '\n",
    "print(x.strip()) # Hello"
   ]
  },
  {
   "cell_type": "markdown",
   "id": "18d1d7b2-3edd-4a7c-991a-7d71d69f2497",
   "metadata": {},
   "source": [
    "You can use the `.replace()` method to replace a sub-string with another string:"
   ]
  },
  {
   "cell_type": "code",
   "execution_count": null,
   "id": "714c14c7-f348-465d-8dfa-40d6ca69f544",
   "metadata": {},
   "outputs": [],
   "source": [
    "print(x.replace('H', 'h')) #   hello"
   ]
  },
  {
   "cell_type": "markdown",
   "id": "6ff7d7f4-e096-4a3a-aaf2-f95233183fdb",
   "metadata": {},
   "source": [
    "You can use the `.split()` method to split a string into a list of sub-strings based on a delimiter:"
   ]
  },
  {
   "cell_type": "code",
   "execution_count": null,
   "id": "e2a66688-42d3-4df8-9871-e6ae01472992",
   "metadata": {},
   "outputs": [],
   "source": [
    "x = 'Hello, World'\n",
    "print(x.split(',')) # ['Hello', ' World']"
   ]
  },
  {
   "cell_type": "markdown",
   "id": "b3efe485-e9ee-4e46-95bc-f51f452b2cd9",
   "metadata": {},
   "source": [
    "You can use the `join()` method to join a list of strings into a single string:"
   ]
  },
  {
   "cell_type": "code",
   "execution_count": null,
   "id": "7d3eeb1d-25f9-4232-b428-c64e1cbe9477",
   "metadata": {},
   "outputs": [],
   "source": [
    "x = ['Hello', 'World']\n",
    "print(', '.join(x)) # Hello, World"
   ]
  },
  {
   "cell_type": "markdown",
   "id": "08ca415d-5a2e-4a07-96bc-daa854a78525",
   "metadata": {},
   "source": [
    "You can use f-strings to include variables in a string (Python 3.6 and above):"
   ]
  },
  {
   "cell_type": "code",
   "execution_count": null,
   "id": "5e942449-cc82-4ae0-affa-b08bc96095a7",
   "metadata": {},
   "outputs": [],
   "source": [
    "x = 10\n",
    "y = 20\n",
    "print(f'x = {x}, y = {y}') # x = 10, y = 20"
   ]
  },
  {
   "cell_type": "markdown",
   "id": "a2eebc3b-1cf3-49d8-b539-2dc59c8eb213",
   "metadata": {
    "tags": []
   },
   "source": [
    "## Problem:\n",
    "\n",
    "Write a program that prompts the user for their first and last name, their age, and their height in meters. Then, print a message that says \"Hello, [FIRST NAME] [LAST NAME]! You are [age] years old and your height is [height] meters. That means you are [height in feet] feet tall.\" The first and last name should be capitalized.\n",
    "\n",
    "To solve this problem, you will need to use the following concepts:\n",
    "\n",
    "- Variables\n",
    "- Data types\n",
    "- String formatting\n",
    "- String methods (capitalization)\n",
    "- Arithmetic operations (floating-point division)"
   ]
  },
  {
   "cell_type": "markdown",
   "id": "0e77482e-0876-4991-a59e-663a23440aeb",
   "metadata": {},
   "source": [
    "**Complete the following code**"
   ]
  },
  {
   "cell_type": "code",
   "execution_count": null,
   "id": "46584e8c-b10a-4d07-b62e-1cedbc93ab8d",
   "metadata": {},
   "outputs": [],
   "source": [
    "# First, prompt the user for their first and last name, their age, and their height in meters:\n",
    "first_name = input(\"Enter your first name: \")\n",
    "last_name = input(\"Enter your last name: \")\n",
    "age = input(\"Enter your age: \")\n",
    "height = input(\"Enter your height in meters: \")\n",
    "\n",
    "# Next, calculate the height in feet:\n",
    "height_in_feet = \n",
    "\n",
    "# Capitalize the first and last name:\n",
    "first_name = \n",
    "last_name = \n",
    "\n",
    "# Finally, print the message:\n",
    "print()"
   ]
  },
  {
   "cell_type": "markdown",
   "id": "52c9dca7-2015-4885-a06b-b8140e43af9c",
   "metadata": {},
   "source": [
    "```Hello, [FIRST NAME] [LAST NAME]! You are [age] years old and your height is [height] meters. That means you are [height in feet] feet tall.```"
   ]
  },
  {
   "cell_type": "markdown",
   "id": "d8022f33-9dbe-488c-9eb9-00d5bc717f26",
   "metadata": {},
   "source": [
    "# Python Crash Course Review - Lists\n",
    "\n",
    "In this notebook, we'll learn about lists and how to create and manipulate them."
   ]
  },
  {
   "cell_type": "markdown",
   "id": "d594937e-eb60-4357-9fc5-422f988d833d",
   "metadata": {},
   "source": [
    "## Creating Lists\n",
    "\n",
    "In Python, you can create a list by enclosing a comma-separated sequence of values in square brackets. For example:"
   ]
  },
  {
   "cell_type": "code",
   "execution_count": null,
   "id": "dc59a759-2a82-44f9-8849-4030a5e4f4de",
   "metadata": {},
   "outputs": [],
   "source": [
    "my_list = [1, 2, 3, 4, 5]"
   ]
  },
  {
   "cell_type": "markdown",
   "id": "a76ba47e-e505-4c9f-8899-bf878a89faad",
   "metadata": {},
   "source": [
    "You can use the `len()` function to get the length of a list:"
   ]
  },
  {
   "cell_type": "code",
   "execution_count": null,
   "id": "8a87712b-bfb8-434e-817b-2207600d76a9",
   "metadata": {},
   "outputs": [],
   "source": [
    "print(len(my_list)) # 5"
   ]
  },
  {
   "cell_type": "markdown",
   "id": "6dde54e7-2c45-4916-b9c1-479685a4a154",
   "metadata": {},
   "source": [
    "You can also use slicing to get a sublist of a list. For example:"
   ]
  },
  {
   "cell_type": "code",
   "execution_count": null,
   "id": "85ca4882-f6e4-4711-a4e9-018d0d1a02ff",
   "metadata": {},
   "outputs": [],
   "source": [
    "print(my_list[1:3]) # [2, 3]\n",
    "print(my_list[:3])  # [1, 2, 3]\n",
    "print(my_list[3:])  # [4, 5]"
   ]
  },
  {
   "cell_type": "markdown",
   "id": "48d13dfe-3f83-4d12-95f5-53d1ba7e1051",
   "metadata": {},
   "source": [
    "## Modifying Lists\n",
    "You can modify lists by assigning to individual elements or slices. For example:"
   ]
  },
  {
   "cell_type": "code",
   "execution_count": null,
   "id": "fd2e1adb-af12-4fe5-b4c2-850690772f73",
   "metadata": {},
   "outputs": [],
   "source": [
    "my_list[0] = 100\n",
    "my_list[1:3] = [200, 300]\n",
    "print(my_list) # [100, 200, 300, 4, 5]"
   ]
  },
  {
   "cell_type": "markdown",
   "id": "370c6e96-cd95-495c-9aa6-41d79b0a3dac",
   "metadata": {},
   "source": [
    "You can use the `+` operator to concatenate lists, and the `*` operator to repeat a list:"
   ]
  },
  {
   "cell_type": "code",
   "execution_count": null,
   "id": "868e05fc-8fcf-402f-8d3f-793a1e2cf298",
   "metadata": {},
   "outputs": [],
   "source": [
    "print([1, 2] + [3, 4])  # [1, 2, 3, 4]\n",
    "print([1, 2] * 3)       # [1, 2, 1, 2, 1, 2]"
   ]
  },
  {
   "cell_type": "markdown",
   "id": "989a74c7-f0dc-4f7c-a419-88aeb28c4f47",
   "metadata": {},
   "source": [
    "You can also use the `.append()` method to add an element to the end of a list:\n",
    "\n"
   ]
  },
  {
   "cell_type": "code",
   "execution_count": null,
   "id": "b378dde2-a2f1-4704-8ecc-83011e12560d",
   "metadata": {},
   "outputs": [],
   "source": [
    "my_list.append(6)\n",
    "print(my_list) # [100, 200, 300, 4, 5, 6]"
   ]
  },
  {
   "cell_type": "markdown",
   "id": "99e4cff0-e15e-494f-b27b-b95c7a1f3e67",
   "metadata": {},
   "source": [
    "You can use the `.insert()` method to insert an element at a specific position in the list:"
   ]
  },
  {
   "cell_type": "code",
   "execution_count": null,
   "id": "b7334682-be66-4ee2-bb1f-dec38ad2332d",
   "metadata": {},
   "outputs": [],
   "source": [
    "my_list.insert(2, 250)\n",
    "print(my_list) # [100, 200, 250, 300, 4, 5, 6]"
   ]
  },
  {
   "cell_type": "markdown",
   "id": "6d963ee6-7144-4949-b3ef-2e43ed80b43c",
   "metadata": {},
   "source": [
    "You can use the `.extend()` method to add multiple elements to the end of a list:"
   ]
  },
  {
   "cell_type": "code",
   "execution_count": null,
   "id": "c3076644-6714-4894-8191-59697201661f",
   "metadata": {},
   "outputs": [],
   "source": [
    "my_list.extend([7, 8, 9])\n",
    "print(my_list) # [100, 200, 250, 300, 4, 5, 6, 7, 8, 9]"
   ]
  },
  {
   "cell_type": "markdown",
   "id": "d71c0321-c5d8-4fd5-ae48-0f75a88ab360",
   "metadata": {},
   "source": [
    "You can use the `.remove()` method to remove an element from a list:"
   ]
  },
  {
   "cell_type": "code",
   "execution_count": null,
   "id": "aff5acb6-eeff-46f6-bfec-86d9f85d1e86",
   "metadata": {},
   "outputs": [],
   "source": [
    "my_list.remove(300)\n",
    "print(my_list) # [100, 200, 250, 4, 5, 6, 8, 7, 9]"
   ]
  },
  {
   "cell_type": "markdown",
   "id": "e3c0e521-ebc8-410a-b641-7e965aebb5fe",
   "metadata": {},
   "source": [
    "You can use the `.pop()` method to remove an element from the end of a list:"
   ]
  },
  {
   "cell_type": "code",
   "execution_count": null,
   "id": "e5286507-54ea-42e1-b309-b622ae20582b",
   "metadata": {},
   "outputs": [],
   "source": [
    "last_element = my_list.pop()\n",
    "print(last_element) # 9\n",
    "print(my_list)      # [100, 200, 250, 300, 4, 5, 6, 7]"
   ]
  },
  {
   "cell_type": "markdown",
   "id": "478a88f1-6a46-4e30-b578-49467a119932",
   "metadata": {},
   "source": [
    "You can also use the `.pop()` method to remove an element from a specific position in the list:"
   ]
  },
  {
   "cell_type": "code",
   "execution_count": null,
   "id": "7f1f2aa9-16ee-4231-ae6c-a7baccdf52f1",
   "metadata": {},
   "outputs": [],
   "source": [
    "second_element = my_list.pop(1)\n",
    "print(second_element) # 200\n",
    "print(my_list)        # [100, 250, 300, 4, 5, 6, 7]"
   ]
  },
  {
   "cell_type": "markdown",
   "id": "7fc26d75-ab15-4c90-8c97-4def9677f222",
   "metadata": {},
   "source": [
    "## Sorting Lists\n",
    "You can use the `.sort()` method to sort a list in ascending order. For example:"
   ]
  },
  {
   "cell_type": "code",
   "execution_count": null,
   "id": "6ad1dad3-89a2-457b-af3d-c3a0e6e5e21a",
   "metadata": {},
   "outputs": [],
   "source": [
    "my_list = [5, 3, 1, 4, 2]\n",
    "my_list.sort()\n",
    "print(my_list) # [1, 2, 3, 4, 5]"
   ]
  },
  {
   "cell_type": "markdown",
   "id": "b4c32e91-acd2-413d-8d77-8759998762c6",
   "metadata": {},
   "source": [
    "You can pass the `reverse=True` argument to the `.sort()` method to sort a list in descending order. For example:"
   ]
  },
  {
   "cell_type": "code",
   "execution_count": null,
   "id": "c6b3c38c-43d2-47d8-8df2-746155e4d842",
   "metadata": {},
   "outputs": [],
   "source": [
    "my_list.sort(reverse=True)\n",
    "print(my_list) # [5, 4, 3, 2, 1]"
   ]
  },
  {
   "cell_type": "markdown",
   "id": "3ad44f80-433e-460e-90b8-949cf0660add",
   "metadata": {},
   "source": [
    "You can use the `sorted()` function to return a sorted copy of a list without modifying the original list. For example:"
   ]
  },
  {
   "cell_type": "code",
   "execution_count": null,
   "id": "34ef4372-e773-4b43-8f50-6c9f74841326",
   "metadata": {},
   "outputs": [],
   "source": [
    "my_list = [5, 3, 1, 4, 2]\n",
    "sorted_list = sorted(my_list)\n",
    "print(my_list) # [5, 3, 1, 4, 2]\n",
    "print(sorted_list) # [1, 2, 3, 4, 5]"
   ]
  },
  {
   "cell_type": "markdown",
   "id": "62b77292-4548-41f6-bdf9-45eb990cfb6b",
   "metadata": {},
   "source": [
    "# Python Crash Course Review - Working with Lists\n"
   ]
  },
  {
   "cell_type": "code",
   "execution_count": null,
   "id": "7c69e074-f424-4b0d-9076-1227a3ea8f8d",
   "metadata": {},
   "outputs": [],
   "source": [
    "x = ['a', 'b', 'c', 'd', 'e']\n",
    "\n",
    "# Loop through an entire list\n",
    "for item in x:\n",
    "    print(item)\n",
    "    \n",
    "# Output:\n",
    "# a\n",
    "# b\n",
    "# c\n",
    "# d\n",
    "# e"
   ]
  },
  {
   "cell_type": "code",
   "execution_count": null,
   "id": "ff5e70ff-02f9-4339-935b-e993a980f01f",
   "metadata": {},
   "outputs": [],
   "source": [
    "# Create a sequence of numbers\n",
    "for i in range(5):\n",
    "    print(i)\n",
    "\n",
    "# Output:\n",
    "# 0\n",
    "# 1\n",
    "# 2\n",
    "# 3\n",
    "# 4"
   ]
  },
  {
   "cell_type": "code",
   "execution_count": null,
   "id": "46fbb47f-e5b2-4246-bf37-c960894488e4",
   "metadata": {},
   "outputs": [],
   "source": [
    "# Specify a start, stop, and step\n",
    "for i in range(2, 7, 2):\n",
    "    print(i)\n",
    "\n",
    "# Output:\n",
    "# 2\n",
    "# 4\n",
    "# 6"
   ]
  },
  {
   "cell_type": "code",
   "execution_count": null,
   "id": "1b6d1895-76d1-4bc9-af19-42991bfcc8f9",
   "metadata": {},
   "outputs": [],
   "source": [
    "# Loop through a list and get the index and value at each iteration\n",
    "for i, item in enumerate(x):\n",
    "    print(i, item)\n",
    "\n",
    "# Output:\n",
    "# 0 a\n",
    "# 1 b\n",
    "# 2 c\n",
    "# 3 d\n",
    "# 4 e"
   ]
  },
  {
   "cell_type": "code",
   "execution_count": null,
   "id": "85c118fc-e00f-46a2-bd94-89a4d1816de9",
   "metadata": {},
   "outputs": [],
   "source": [
    "# Work with part of a list\n",
    "for item in x[2:4]:\n",
    "    print(item)\n",
    "\n",
    "# Output:\n",
    "# c\n",
    "# d"
   ]
  },
  {
   "cell_type": "code",
   "execution_count": null,
   "id": "885d7250-e669-4973-a7df-8fb7449cd71f",
   "metadata": {},
   "outputs": [],
   "source": [
    "# Create a new list from an existing list using list comprehension\n",
    "x = [1, 2, 3, 4, 5]\n",
    "y = [item**2 for item in x]\n",
    "print(y)\n",
    "# Output:\n",
    "# [1, 4, 9, 16, 25]"
   ]
  },
  {
   "cell_type": "code",
   "execution_count": null,
   "id": "8863c6da-910d-4404-9b0f-8a123d2f632d",
   "metadata": {},
   "outputs": [],
   "source": [
    "# Create a list of numbers\n",
    "x = list(range(1, 6))"
   ]
  },
  {
   "cell_type": "code",
   "execution_count": null,
   "id": "79b4882c-f6f6-4b4b-bf4a-ad689bfb8c23",
   "metadata": {},
   "outputs": [],
   "source": [
    "# Calculate simple statistics\n",
    "x = [1, 2, 3, 4, 5]\n",
    "print(min(x)) # 1\n",
    "print(max(x)) # 5\n",
    "print(sum(x)) # 15"
   ]
  },
  {
   "cell_type": "code",
   "execution_count": null,
   "id": "a68b6ce6-1900-4dfe-ac51-f10ee39f39ab",
   "metadata": {},
   "outputs": [],
   "source": [
    "# A tuple is an immutable sequence type. You can create a tuple by enclosing a comma-separated sequence of items in parentheses:\n",
    "x = (1, 2, 3, 4, 5)\n",
    "print(x)"
   ]
  },
  {
   "cell_type": "code",
   "execution_count": null,
   "id": "a158f48a-cf3d-4b93-89fd-cdc7cb713fce",
   "metadata": {},
   "outputs": [],
   "source": [
    "# You can access the items of a tuple using their indices:\n",
    "print(x[0]) # 1"
   ]
  },
  {
   "cell_type": "code",
   "execution_count": null,
   "id": "5008a012-bb15-4fb9-8d27-cbc5d84a4b55",
   "metadata": {},
   "outputs": [],
   "source": [
    "# You can use the `len()` function to get the length of a tuple:\n",
    "print(len(x)) # 5"
   ]
  },
  {
   "cell_type": "code",
   "execution_count": null,
   "id": "b664fab2-cfde-4d37-a2b9-dd263315c35b",
   "metadata": {},
   "outputs": [],
   "source": [
    "# Loop through a tuple\n",
    "for item in x:\n",
    "    print(item)\n",
    "\n",
    "# Output:\n",
    "# 1\n",
    "# 2\n",
    "# 3\n",
    "# 4\n",
    "# 5"
   ]
  },
  {
   "cell_type": "code",
   "execution_count": null,
   "id": "449b1535-8d4f-4fe0-ab69-360e0065cd80",
   "metadata": {},
   "outputs": [],
   "source": [
    "# You reassign the value of tuple\n",
    "x = (5, 4, 3, 2, 1)\n",
    "print(x)"
   ]
  },
  {
   "cell_type": "markdown",
   "id": "c65be128-deeb-4bcb-9047-17208b07dfd0",
   "metadata": {},
   "source": [
    "## Problem\n",
    "Write a program that uses the following list of fruits:\n",
    "```\n",
    "fruits = ['apple', 'banana', 'cherry', 'pineapple', 'strawberry', 'orange']\n",
    "\n",
    "```"
   ]
  },
  {
   "cell_type": "markdown",
   "id": "232caeb0-74bb-44fe-9a2c-f250cc0bfe54",
   "metadata": {},
   "source": [
    "The program should print out the following:\n",
    "\n",
    "- The total number of fruits in the list\n",
    "- The first and last fruits in the list\n",
    "- The second and second-to-last fruits in the list\n",
    "- A list of all the fruits in reverse order\n",
    "- All the fruits in uppercase\n",
    "\n",
    "\n",
    "The output should be:\n",
    "```\n",
    "Number of fruits: 6\n",
    "First fruit: apple\n",
    "Last fruit: orange\n",
    "Second fruit: banana\n",
    "Second-to-last fruit: strawberry\n",
    "Reverse order: ['orange', 'strawberry', 'pineapple', 'cherry', 'banana', 'apple']\n",
    "Uppercase:\n",
    "APPLE\n",
    "BANANA\n",
    "CHERRY\n",
    "PINEAPPLE\n",
    "STRAWBERRY\n",
    "ORANGE\n",
    "```"
   ]
  },
  {
   "cell_type": "code",
   "execution_count": null,
   "id": "4e59a4f4-8795-4afe-a8d4-25fe5648faf1",
   "metadata": {},
   "outputs": [],
   "source": []
  }
 ],
 "metadata": {
  "kernelspec": {
   "display_name": "Python 3 (ipykernel)",
   "language": "python",
   "name": "python3"
  },
  "language_info": {
   "codemirror_mode": {
    "name": "ipython",
    "version": 3
   },
   "file_extension": ".py",
   "mimetype": "text/x-python",
   "name": "python",
   "nbconvert_exporter": "python",
   "pygments_lexer": "ipython3",
   "version": "3.9.13"
  }
 },
 "nbformat": 4,
 "nbformat_minor": 5
}
